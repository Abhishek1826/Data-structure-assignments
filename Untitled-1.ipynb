{
 "cells": [
  {
   "cell_type": "markdown",
   "metadata": {},
   "source": [
    "Q1. Write a program to find all pairs of an integer array whose sum is equal to a given number?"
   ]
  },
  {
   "cell_type": "code",
   "execution_count": null,
   "metadata": {},
   "outputs": [],
   "source": [
    "function findPairs(arr, sum) {\n",
    "    let pairs = [];\n",
    "    let seen = new Set();\n",
    "    for (let num of arr) {\n",
    "        let target = sum - num;\n",
    "        if (seen.has(target)) {\n",
    "            pairs.push([target, num]);\n",
    "        }\n",
    "        seen.add(num);\n",
    "    }\n",
    "    return pairs;\n",
    "}\n",
    "\n",
    "let arr = [1, 5, 7, -1, 5];\n",
    "let sum = 6;\n",
    "console.log(findPairs(arr, sum)); // [[1, 5], [7, -1], [1, 5]]\n"
   ]
  },
  {
   "cell_type": "markdown",
   "metadata": {},
   "source": [
    "Q2. Write a program to reverse an array in place? In place means you cannot create a new array. You have to update the original array.\n",
    "\n"
   ]
  },
  {
   "cell_type": "code",
   "execution_count": null,
   "metadata": {},
   "outputs": [],
   "source": [
    "function reverseArray(arr) {\n",
    "    let start = 0;\n",
    "    let end = arr.length - 1;\n",
    "    while (start < end) {\n",
    "        let temp = arr[start];\n",
    "        arr[start] = arr[end];\n",
    "        arr[end] = temp;\n",
    "        start++;\n",
    "        end--;\n",
    "    }\n",
    "    return arr;\n",
    "}\n",
    "\n",
    "let arr = [1, 2, 3, 4, 5];\n",
    "console.log(reverseArray(arr)); // [5, 4, 3, 2, 1]\n"
   ]
  },
  {
   "cell_type": "markdown",
   "metadata": {},
   "source": [
    "Q3. Write a program to check if two strings are a rotation of each other?\n",
    "\n"
   ]
  },
  {
   "cell_type": "code",
   "execution_count": null,
   "metadata": {},
   "outputs": [],
   "source": [
    "function areRotations(str1, str2) {\n",
    "    return str1.length === str2.length && (str1 + str1).includes(str2);\n",
    "}\n",
    "\n",
    "let str1 = \"ABCD\";\n",
    "let str2 = \"CDAB\";\n",
    "console.log(areRotations(str1, str2)); // true\n"
   ]
  },
  {
   "cell_type": "markdown",
   "metadata": {},
   "source": [
    "Q4. Write a program to print the first non-repeated character from a string?\n",
    "\n"
   ]
  },
  {
   "cell_type": "code",
   "execution_count": null,
   "metadata": {},
   "outputs": [],
   "source": [
    "function firstNonRepeatedChar(str) {\n",
    "    let charCount = {};\n",
    "    for (let char of str) {\n",
    "        charCount[char] = (charCount[char] || 0) + 1;\n",
    "    }\n",
    "    for (let char of str) {\n",
    "        if (charCount[char] === 1) {\n",
    "            return char;\n",
    "        }\n",
    "    }\n",
    "    return null;\n",
    "}\n",
    "\n",
    "let str = \"swiss\";\n",
    "console.log(firstNonRepeatedChar(str)); // \"w\"\n"
   ]
  },
  {
   "cell_type": "markdown",
   "metadata": {},
   "source": [
    "Q5. Read about the Tower of Hanoi algorithm. Write a program to implement it.\n",
    "\n"
   ]
  },
  {
   "cell_type": "code",
   "execution_count": null,
   "metadata": {},
   "outputs": [],
   "source": [
    "function towerOfHanoi(n, fromRod, toRod, auxRod) {\n",
    "    if (n === 1) {\n",
    "        console.log(`Move disk 1 from ${fromRod} to ${toRod}`);\n",
    "        return;\n",
    "    }\n",
    "    towerOfHanoi(n - 1, fromRod, auxRod, toRod);\n",
    "    console.log(`Move disk ${n} from ${fromRod} to ${toRod}`);\n",
    "    towerOfHanoi(n - 1, auxRod, toRod, fromRod);\n",
    "}\n",
    "\n",
    "let n = 3;\n",
    "towerOfHanoi(n, 'A', 'C', 'B');\n"
   ]
  },
  {
   "cell_type": "markdown",
   "metadata": {},
   "source": [
    "Q6. Read about infix, prefix, and postfix expressions. Write a program to convert postfix to prefix expression.\n",
    "\n"
   ]
  },
  {
   "cell_type": "code",
   "execution_count": null,
   "metadata": {},
   "outputs": [],
   "source": [
    "function isOperator(x) {\n",
    "    return x === '+' || x === '-' || x === '*' || x === '/';\n",
    "}\n",
    "\n",
    "function postToPre(post_exp) {\n",
    "    let stack = [];\n",
    "    for (let char of post_exp) {\n",
    "        if (isOperator(char)) {\n",
    "            let op1 = stack.pop();\n",
    "            let op2 = stack.pop();\n",
    "            stack.push(char + op2 + op1);\n",
    "        } else {\n",
    "            stack.push(char);\n",
    "        }\n",
    "    }\n",
    "    return stack[0];\n",
    "}\n",
    "\n",
    "let post_exp = \"ABC/-AK/L-*\";\n",
    "console.log(postToPre(post_exp)); // \"*-A/BC-/AKL\"\n"
   ]
  },
  {
   "cell_type": "markdown",
   "metadata": {},
   "source": [
    "Q7. Write a program to convert prefix expression to infix expression.\n",
    "\n"
   ]
  },
  {
   "cell_type": "code",
   "execution_count": null,
   "metadata": {},
   "outputs": [],
   "source": [
    "function preToInfix(pre_exp) {\n",
    "    let stack = [];\n",
    "    for (let i = pre_exp.length - 1; i >= 0; i--) {\n",
    "        let char = pre_exp[i];\n",
    "        if (isOperator(char)) {\n",
    "            let op1 = stack.pop();\n",
    "            let op2 = stack.pop();\n",
    "            stack.push('(' + op1 + char + op2 + ')');\n",
    "        } else {\n",
    "            stack.push(char);\n",
    "        }\n",
    "    }\n",
    "    return stack[0];\n",
    "}\n",
    "\n",
    "let pre_exp = \"*-A/BC-/AKL\";\n",
    "console.log(preToInfix(pre_exp)); // \"((A-(B/C))*((A/K)-L))\"\n"
   ]
  },
  {
   "cell_type": "markdown",
   "metadata": {},
   "source": [
    "Q8. Write a program to check if all the brackets are closed in a given code snippet.\n",
    "\n"
   ]
  },
  {
   "cell_type": "code",
   "execution_count": null,
   "metadata": {},
   "outputs": [],
   "source": [
    "function areBracketsBalanced(expr) {\n",
    "    let stack = [];\n",
    "    for (let char of expr) {\n",
    "        if (char === '(' || char === '{' || char === '[') {\n",
    "            stack.push(char);\n",
    "        } else {\n",
    "            if (stack.length === 0) return false;\n",
    "            let top = stack.pop();\n",
    "            if ((char === ')' && top !== '(') || (char === '}' && top !== '{') || (char === ']' && top !== '[')) {\n",
    "                return false;\n",
    "            }\n",
    "        }\n",
    "    }\n",
    "    return stack.length === 0;\n",
    "}\n",
    "\n",
    "let expr = \"{()}[]\";\n",
    "console.log(areBracketsBalanced(expr)); // true\n"
   ]
  },
  {
   "cell_type": "markdown",
   "metadata": {},
   "source": [
    "Q9. Write a program to reverse a stack.\n",
    "\n"
   ]
  },
  {
   "cell_type": "code",
   "execution_count": null,
   "metadata": {},
   "outputs": [],
   "source": [
    "class Stack {\n",
    "    constructor() {\n",
    "        this.items = [];\n",
    "    }\n",
    "\n",
    "    push(element) {\n",
    "        this.items.push(element);\n",
    "    }\n",
    "\n",
    "    pop() {\n",
    "        return this.items.pop();\n",
    "    }\n",
    "\n",
    "    isEmpty() {\n",
    "        return this.items.length === 0;\n",
    "    }\n",
    "\n",
    "    printStack() {\n",
    "        return this.items.join(' ');\n",
    "    }\n",
    "}\n",
    "\n",
    "function insertAtBottom(stack, item) {\n",
    "    if (stack.isEmpty()) {\n",
    "        stack.push(item);\n",
    "    } else {\n",
    "        let temp = stack.pop();\n",
    "        insertAtBottom(stack, item);\n",
    "        stack.push(temp);\n",
    "    }\n",
    "}\n",
    "\n",
    "function reverseStack(stack) {\n",
    "    if (!stack.isEmpty()) {\n",
    "        let temp = stack.pop();\n",
    "        reverseStack(stack);\n",
    "        insertAtBottom(stack, temp);\n",
    "    }\n",
    "}\n",
    "\n",
    "let stack = new Stack();\n",
    "stack.push(1);\n",
    "stack.push(2);\n",
    "stack.push(3);\n",
    "stack.push(4);\n",
    "\n",
    "console.log(\"Original Stack\");\n",
    "console.log(stack.printStack());\n",
    "\n",
    "reverseStack(stack);\n",
    "\n",
    "console.log(\"Reversed Stack\");\n",
    "console.log(stack.printStack());\n"
   ]
  },
  {
   "cell_type": "markdown",
   "metadata": {},
   "source": [
    "Q10. Write a program to find the smallest number using a stack.\n",
    "\n"
   ]
  },
  {
   "cell_type": "code",
   "execution_count": null,
   "metadata": {},
   "outputs": [],
   "source": [
    "class Stack {\n",
    "    constructor() {\n",
    "        this.items = [];\n",
    "        this.minStack = [];\n",
    "    }\n",
    "\n",
    "    push(element) {\n",
    "        this.items.push(element);\n",
    "        if (this.minStack.length === 0 || element <= this.minStack[this.minStack.length - 1]) {\n",
    "            this.minStack.push(element);\n",
    "        }\n",
    "    }\n",
    "\n",
    "    pop() {\n",
    "        let poppedElement = this.items.pop();\n",
    "        if (poppedElement === this.minStack[this.minStack.length - 1]) {\n",
    "            this.minStack.pop();\n",
    "        }\n",
    "        return poppedElement;\n",
    "    }\n",
    "\n",
    "    min() {\n",
    "        return this.minStack[this.minStack.length - 1];\n",
    "    }\n",
    "}\n",
    "\n",
    "let stack = new Stack();\n",
    "stack.push(3);\n",
    "stack.push(5);\n",
    "console.log(stack.min()); // 3\n",
    "stack.push(2);\n",
    "stack.push(1);\n",
    "console.log(stack.min()); // 1\n",
    "stack.pop();\n",
    "console.log(stack.min()); // 2\n"
   ]
  }
 ],
 "metadata": {
  "language_info": {
   "name": "python"
  }
 },
 "nbformat": 4,
 "nbformat_minor": 2
}
